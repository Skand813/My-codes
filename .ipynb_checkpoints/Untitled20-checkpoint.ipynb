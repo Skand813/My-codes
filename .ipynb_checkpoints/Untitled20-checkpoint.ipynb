{
 "cells": [
  {
   "cell_type": "code",
   "execution_count": 10,
   "id": "confirmed-causing",
   "metadata": {},
   "outputs": [],
   "source": [
    "import requests \n",
    "from bs4 import BeautifulSoup \n",
    "   \n",
    "\n",
    "search = \"VIP Driving School 5200 de la Savane Suite 240 Montreal QC H4P 2M8\"\n",
    "   \n",
    "url = f\"https://www.google.com/search?&q ={search}\" \n",
    "   \n",
    "req = requests.get(url) \n",
    "  \n",
    "soup = BeautifulSoup(req.text, \"lxml\")  \n",
    "\n"
   ]
  },
  {
   "cell_type": "code",
   "execution_count": 11,
   "id": "liquid-ridge",
   "metadata": {},
   "outputs": [
    {
     "name": "stdout",
     "output_type": "stream",
     "text": [
      "No\n"
     ]
    }
   ],
   "source": [
    "if soup.select('.kp-blk knowledge-panel Wnoohf OJXvsb'):\n",
    "    print (\"Yes\")\n",
    "else : \n",
    "    print(\"No\")"
   ]
  },
  {
   "cell_type": "code",
   "execution_count": null,
   "id": "linear-collapse",
   "metadata": {},
   "outputs": [],
   "source": []
  }
 ],
 "metadata": {
  "kernelspec": {
   "display_name": "Python 3",
   "language": "python",
   "name": "python3"
  },
  "language_info": {
   "codemirror_mode": {
    "name": "ipython",
    "version": 3
   },
   "file_extension": ".py",
   "mimetype": "text/x-python",
   "name": "python",
   "nbconvert_exporter": "python",
   "pygments_lexer": "ipython3",
   "version": "3.7.9"
  }
 },
 "nbformat": 4,
 "nbformat_minor": 5
}
