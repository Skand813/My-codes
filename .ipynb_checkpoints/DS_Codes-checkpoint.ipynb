{
 "cells": [
  {
   "cell_type": "code",
   "execution_count": null,
   "metadata": {},
   "outputs": [],
   "source": [
    "#anagram check\n",
    "\n",
    "def anagram(text1,text2):\n",
    "    \n",
    "    text1 = text1.replace(' ','').lower()\n",
    "    text2 = text2.replace(' ','').lower()\n",
    "    \n",
    "    if len(text1) != len(text2):\n",
    "        return False\n",
    "    \n",
    "    count = {}\n",
    "    \n",
    "    for letters in text1:\n",
    "        if letters in count:\n",
    "            count[letters] += 1\n",
    "        else:\n",
    "            count[letters] = 1\n",
    "            \n",
    "    for letters in text2:\n",
    "        if letters in count:\n",
    "            count[letters] -= 1\n",
    "        else:\n",
    "            count[letters] = 1\n",
    "    \n",
    "    for k in count:\n",
    "        if count[k] != 0:\n",
    "            return False\n",
    "    return True\n"
   ]
  },
  {
   "cell_type": "code",
   "execution_count": null,
   "metadata": {},
   "outputs": [],
   "source": [
    "anagram('Skand Mani', 'Mand Skani')"
   ]
  },
  {
   "cell_type": "code",
   "execution_count": null,
   "metadata": {},
   "outputs": [],
   "source": [
    "def missingElement(arr1, arr2):\n",
    "        count = {}\n",
    "        for element in arr1:\n",
    "            if element in count:\n",
    "                count[element] += 1\n",
    "            else:\n",
    "                count[element] = 1\n",
    "        for element in arr2:\n",
    "            if element in count:\n",
    "                count[element] -= 1\n",
    "            else:\n",
    "                count[element] = 1\n",
    "        for k in count:\n",
    "            if count[k] != 0:\n",
    "                return k\n"
   ]
  },
  {
   "cell_type": "code",
   "execution_count": null,
   "metadata": {},
   "outputs": [],
   "source": [
    "def rev_word1(s):\n",
    "    return \"\".join(reversed(s))\n",
    "\n",
    "#Another trice to reverse a string\n",
    "# liste1 = [1,2,3,4,5]\n",
    "# liste2 = list()\n",
    "# for i in liste1:\n",
    "#     liste2.insert(0,i)\n",
    "#     print(liste2)"
   ]
  },
  {
   "cell_type": "code",
   "execution_count": null,
   "metadata": {},
   "outputs": [],
   "source": [
    "def compress(s):\n",
    "    \"\"\"\n",
    "    This solution compresses without checking. Known as the RunLength Compression algorithm.\n",
    "    \"\"\"\n",
    "    \n",
    "    # Begin Run as empty string\n",
    "    r = \"\"\n",
    "    l = len(s)\n",
    "    \n",
    "    # Check for length 0\n",
    "    if l == 0:\n",
    "        return \"\"\n",
    "    \n",
    "    # Check for length 1\n",
    "    if l == 1:\n",
    "        return s + \"1\"\n",
    "    \n",
    "    #Intialize Values\n",
    "    #last = s[0]\n",
    "    cnt = 1\n",
    "    i = 1\n",
    "    \n",
    "    while i < l:\n",
    "        \n",
    "        # Check to see if it is the same letter\n",
    "        if s[i] == s[i - 1]: \n",
    "            # Add a count if same as previous\n",
    "            cnt += 1\n",
    "        else:\n",
    "            # Otherwise store the previous data\n",
    "            r = r + s[i - 1] + str(cnt)\n",
    "            cnt = 1\n",
    "            \n",
    "        # Add to index count to terminate while loop\n",
    "        i += 1\n",
    "    \n",
    "    # Put everything back into run\n",
    "    r = r + s[i - 1] + str(cnt)\n",
    "    \n",
    "    return r"
   ]
  },
  {
   "cell_type": "code",
   "execution_count": null,
   "metadata": {
    "scrolled": true
   },
   "outputs": [],
   "source": [
    "class node:\n",
    "    \n",
    "    def __init__(self,value):\n",
    "        self.value = value\n",
    "        self.nextnode = None\n",
    "\n",
    "def cyclecheck(node):\n",
    "    \n",
    "    marker1 = node\n",
    "    marker2 = node\n",
    "    \n",
    "    while marker2 != None and marker2.nextnode != None:\n",
    "        marker1 = marker1.nextnode\n",
    "        marker2 = marker2.nextnode.nextnode\n",
    "        \n",
    "        if marker2 == marker1:\n",
    "            return True\n",
    "    \n",
    "    return False\n",
    "    \n",
    "        "
   ]
  },
  {
   "cell_type": "code",
   "execution_count": null,
   "metadata": {},
   "outputs": [],
   "source": [
    "a = node(1)\n",
    "b = node(2)\n",
    "c = node(3)"
   ]
  },
  {
   "cell_type": "code",
   "execution_count": null,
   "metadata": {},
   "outputs": [],
   "source": [
    "a.nextnode = b\n",
    "b.nextnode = c\n",
    "c.nextnode = a"
   ]
  },
  {
   "cell_type": "code",
   "execution_count": null,
   "metadata": {},
   "outputs": [],
   "source": [
    "cyclecheck(a)"
   ]
  },
  {
   "cell_type": "code",
   "execution_count": null,
   "metadata": {},
   "outputs": [],
   "source": [
    "def nth_to_last_node(n, head):\n",
    "\n",
    "    left_pointer  = head\n",
    "    right_pointer = head\n",
    "\n",
    "    # Set right pointer at n nodes away from head\n",
    "    for i in range(n-1):\n",
    "        \n",
    "        # Check for edge case of not having enough nodes!\n",
    "        if not right_pointer.nextnode:\n",
    "            raise LookupError('Error: n is larger than the linked list.')\n",
    "\n",
    "        # Otherwise, we can set the block\n",
    "        right_pointer = right_pointer.nextnode\n",
    "        \n",
    "        \n",
    "    # Move the block down the linked list\n",
    "    while right_pointer.nextnode:\n",
    "        left_pointer  = left_pointer.nextnode\n",
    "        right_pointer = right_pointer.nextnode\n",
    "\n",
    "    # Now return left pointer, its at the nth to last element!\n",
    "    return left_pointer"
   ]
  },
  {
   "cell_type": "code",
   "execution_count": null,
   "metadata": {},
   "outputs": [],
   "source": [
    "class Node(object):\n",
    "    \n",
    "    def __init__(self,value):\n",
    "        self.value = value\n",
    "        self.nextnode = None\n",
    "        self.prevnode = None"
   ]
  },
  {
   "cell_type": "code",
   "execution_count": null,
   "metadata": {},
   "outputs": [],
   "source": [
    "a = Node(1)\n",
    "b = Node(2)\n",
    "c = Node(3)\n",
    "d= Node(4)\n",
    "e = Node(5)\n",
    "a.nextnode = b \n",
    "b.nextnode = c\n",
    "b.prevnode = a\n",
    "c.nextnode = d\n",
    "c.prevnode = b\n",
    "d.nextnode = e\n",
    "d.prevnode = c"
   ]
  },
  {
   "cell_type": "code",
   "execution_count": null,
   "metadata": {},
   "outputs": [],
   "source": [
    "b.nextnode.value"
   ]
  },
  {
   "cell_type": "code",
   "execution_count": null,
   "metadata": {},
   "outputs": [],
   "source": [
    "def permute(s):\n",
    "    out = []\n",
    "    \n",
    "    # Base Case\n",
    "    if len(s) == 1:\n",
    "        out = [s]\n",
    "        \n",
    "    else:\n",
    "        # For every letter in string\n",
    "        for i, let in enumerate(s):\n",
    "            \n",
    "            # For every permutation resulting from Step 2 and 3 described above\n",
    "            for perm in permute(s[:i] + s[i+1:]):\n",
    "                print(\"Perm :\"+ perm)\n",
    "                \n",
    "                # Add it to output\n",
    "                out += [let + perm]\n",
    "                print (out)\n",
    "\n",
    "    return out"
   ]
  },
  {
   "cell_type": "code",
   "execution_count": null,
   "metadata": {},
   "outputs": [],
   "source": [
    "def perm(s):\n",
    "    out = []\n",
    "    if len(s)==1 :\n",
    "        return s\n",
    "    else :\n",
    "        for i in range(len(s)):\n",
    "            x = s[i]\n",
    "            sq = s[:i]+s[i+1:]\n",
    "            for p in perm(sq):\n",
    "                out.append(x+p)\n",
    "        return out\n",
    "            "
   ]
  },
  {
   "cell_type": "code",
   "execution_count": null,
   "metadata": {},
   "outputs": [],
   "source": [
    "def BinaryTree(r):\n",
    "    return [r, [], []]\n",
    "\n",
    "def insertLeft(root,newBranch):\n",
    "    t = root.pop(1)\n",
    "    if len(t) > 1:\n",
    "        root.insert(1,[newBranch,t,[]])\n",
    "    else:\n",
    "        root.insert(1,[newBranch, [], []])\n",
    "    return root\n",
    "\n",
    "def insertRight(root,newBranch):\n",
    "    t = root.pop(2)\n",
    "    if len(t) > 1:\n",
    "        root.insert(2,[newBranch,[],t])\n",
    "    else:\n",
    "        root.insert(2,[newBranch,[],[]])\n",
    "    return root\n",
    "\n",
    "def getRootVal(root):\n",
    "    return root[0]\n",
    "\n",
    "def setRootVal(root,newVal):\n",
    "    root[0] = newVal\n",
    "\n",
    "def getLeftChild(root):\n",
    "    return root[1]\n",
    "\n",
    "def getRightChild(root):\n",
    "    return root[2]"
   ]
  },
  {
   "cell_type": "code",
   "execution_count": null,
   "metadata": {},
   "outputs": [],
   "source": [
    "r = BinaryTree(3)"
   ]
  },
  {
   "cell_type": "code",
   "execution_count": null,
   "metadata": {},
   "outputs": [],
   "source": [
    "insertLeft(r,4)"
   ]
  },
  {
   "cell_type": "code",
   "execution_count": null,
   "metadata": {},
   "outputs": [],
   "source": [
    "insertRight(r,6)"
   ]
  },
  {
   "cell_type": "code",
   "execution_count": null,
   "metadata": {},
   "outputs": [],
   "source": [
    "insertLeft(r,5)"
   ]
  },
  {
   "cell_type": "code",
   "execution_count": null,
   "metadata": {},
   "outputs": [],
   "source": [
    "def bubble_sort(arr):\n",
    "    for k in range(len(arr)-1,0,-1):\n",
    "        for i in range(k):\n",
    "            if arr[i]>arr[i+1]:\n",
    "                temp = arr[i]\n",
    "                arr[i]= arr[i+1]\n",
    "                arr[i+1]=temp\n",
    "            else: \n",
    "                pass"
   ]
  },
  {
   "cell_type": "code",
   "execution_count": null,
   "metadata": {},
   "outputs": [],
   "source": [
    "arr=[5,3,7,6,99,8]\n",
    "arr1 = [64, 34, 25, 12, 22, 11, 90]\n",
    "bubble_sort(arr)\n",
    "arr"
   ]
  },
  {
   "cell_type": "code",
   "execution_count": null,
   "metadata": {},
   "outputs": [],
   "source": [
    "arr1 = [64, 34, 25, 12, 22, 11, 90]\n",
    "bubble_sort(arr1)\n",
    "arr1"
   ]
  },
  {
   "cell_type": "code",
   "execution_count": null,
   "metadata": {},
   "outputs": [],
   "source": [
    "def insertion_sort(arr):\n",
    "    \n",
    "    # For every index in array\n",
    "    for i in range(1,len(arr)):\n",
    "        \n",
    "        # Set current values and position\n",
    "        currentvalue = arr[i]\n",
    "        position = i\n",
    "        \n",
    "        # Sorted Sublist\n",
    "        while position>0 and arr[position-1]>currentvalue:\n",
    "            \n",
    "            arr[position]=arr[position-1]\n",
    "            position = position-1\n",
    "\n",
    "        arr[position]=currentvalue\n",
    "       "
   ]
  },
  {
   "cell_type": "code",
   "execution_count": null,
   "metadata": {},
   "outputs": [],
   "source": [
    "arr1 = [64, 34, 25, 12, 22, 11, 90,31,15,3,6,42,51,65,7,30,121,345,101,234,990,991,32]\n",
    "arr=[5,3,7,6,99,8]\n",
    "selection_sort(arr1)\n",
    "arr1"
   ]
  },
  {
   "cell_type": "code",
   "execution_count": null,
   "metadata": {},
   "outputs": [],
   "source": []
  },
  {
   "cell_type": "code",
   "execution_count": 46,
   "metadata": {},
   "outputs": [
    {
     "data": {
      "text/plain": [
       "[11, 12, 22, 25, 34, 64, 90]"
      ]
     },
     "execution_count": 46,
     "metadata": {},
     "output_type": "execute_result"
    }
   ],
   "source": [
    "def selection_sort(arr):\n",
    "    n = len(arr)\n",
    "    \n",
    "    for i in range(n):\n",
    "        minpos = i\n",
    "        \n",
    "        for j in range(i+1,n):\n",
    "            if arr[j] < arr[minpos]:\n",
    "                minpos = j\n",
    "                \n",
    "        temp =arr[i]\n",
    "        arr[i]=arr[minpos]\n",
    "        arr[minpos]=temp\n",
    "    \n",
    "arr = [64, 34, 25, 12, 22, 11, 90]\n",
    "selection_sort(arr)\n",
    "arr\n",
    "        \n"
   ]
  },
  {
   "cell_type": "code",
   "execution_count": 33,
   "metadata": {},
   "outputs": [
    {
     "name": "stdout",
     "output_type": "stream",
     "text": [
      "12\n",
      "22\n",
      "11\n",
      "90\n"
     ]
    }
   ],
   "source": [
    "arr = [64, 34, 25, 12, 22, 11, 90]\n",
    "n = len(arr)\n",
    "gap = n//2\n",
    "for i in range(gap,n):\n",
    "    print (arr[i])"
   ]
  },
  {
   "cell_type": "code",
   "execution_count": 28,
   "metadata": {},
   "outputs": [
    {
     "data": {
      "text/plain": [
       "3"
      ]
     },
     "execution_count": 28,
     "metadata": {},
     "output_type": "execute_result"
    }
   ],
   "source": [
    "gap"
   ]
  },
  {
   "cell_type": "code",
   "execution_count": 29,
   "metadata": {},
   "outputs": [],
   "source": [
    "def shellSort(arr):\n",
    "  \n",
    "    # Start with a big gap, then reduce the gap\n",
    "    n = len(arr)\n",
    "    gap = n//2\n",
    "  \n",
    "    # Do a gapped insertion sort for this gap size.\n",
    "    # The first gap elements a[0..gap-1] are already in gapped \n",
    "    # order keep adding one more element until the entire array\n",
    "    # is gap sorted\n",
    "    while gap > 0:\n",
    "  \n",
    "        for i in range(gap,n):\n",
    "  \n",
    "            # add a[i] to the elements that have been gap sorted\n",
    "            # save a[i] in temp and make a hole at position i\n",
    "            temp = arr[i]\n",
    "  \n",
    "            # shift earlier gap-sorted elements up until the correct\n",
    "            # location for a[i] is found\n",
    "            j = i\n",
    "            while  j >= gap and arr[j-gap] >temp:\n",
    "                arr[j] = arr[j-gap]\n",
    "                j -= gap\n",
    "  \n",
    "            # put temp (the original a[i]) in its correct location\n",
    "            arr[j] = temp\n",
    "        gap = gap//2"
   ]
  },
  {
   "cell_type": "code",
   "execution_count": 31,
   "metadata": {},
   "outputs": [
    {
     "data": {
      "text/plain": [
       "[11, 12, 22, 25, 34, 64, 90]"
      ]
     },
     "execution_count": 31,
     "metadata": {},
     "output_type": "execute_result"
    }
   ],
   "source": [
    "shellSort(arr)\n",
    "arr\n"
   ]
  },
  {
   "cell_type": "code",
   "execution_count": 36,
   "metadata": {},
   "outputs": [],
   "source": [
    "def insertion_sort(arr):\n",
    "    \n",
    "    for i in range(1,len(arr)):\n",
    "        \n",
    "        currentvalue = arr[i]\n",
    "        position = i\n",
    "        \n",
    "        while position > 0 and arr[position-1]>currentvalue:\n",
    "            arr[position]=arr[position-1]\n",
    "            position = position-1\n",
    "            \n",
    "        arr[position]=currentvalue\n",
    "            "
   ]
  },
  {
   "cell_type": "code",
   "execution_count": 38,
   "metadata": {},
   "outputs": [
    {
     "data": {
      "text/plain": [
       "[1, 2, 3, 11, 12, 21, 22, 25, 34, 44, 64, 76, 90]"
      ]
     },
     "execution_count": 38,
     "metadata": {},
     "output_type": "execute_result"
    }
   ],
   "source": [
    "arr = [64, 34, 25, 12, 22, 11, 90,1,44,76,3,21,2]\n",
    "insertion_sort(arr)\n",
    "arr"
   ]
  },
  {
   "cell_type": "code",
   "execution_count": 41,
   "metadata": {},
   "outputs": [],
   "source": [
    "def shell_sort(arr):\n",
    "    n = len(arr)\n",
    "    gap = n//2\n",
    "    \n",
    "    while gap > 0:\n",
    "        \n",
    "        for i in range (gap,n):\n",
    "            \n",
    "            currentvalue = arr[i]\n",
    "            position = i\n",
    "            \n",
    "            while position > 0 and arr[position-gap]> currentvalue :\n",
    "                arr[position] = arr[position-gap]\n",
    "                position = position - gap\n",
    "                \n",
    "            arr[position]=currentvalue\n",
    "        gap = gap//2"
   ]
  },
  {
   "cell_type": "code",
   "execution_count": 42,
   "metadata": {},
   "outputs": [
    {
     "data": {
      "text/plain": [
       "[1, 2, 3, 11, 12, 21, 22, 25, 34, 44, 64, 76, 90]"
      ]
     },
     "execution_count": 42,
     "metadata": {},
     "output_type": "execute_result"
    }
   ],
   "source": [
    "arr = [64, 34, 25, 12, 22, 11, 90,1,44,76,3,21,2]\n",
    "shell_sort(arr)\n",
    "arr"
   ]
  },
  {
   "cell_type": "code",
   "execution_count": 49,
   "metadata": {},
   "outputs": [],
   "source": [
    "def merge_sort(arr):\n",
    "    \n",
    "    if len(arr)>1:\n",
    "        mid = len(arr)//2\n",
    "        lefthalf = arr[:mid]\n",
    "        righthalf = arr[mid:]\n",
    "\n",
    "        merge_sort(lefthalf)\n",
    "        merge_sort(righthalf)\n",
    "\n",
    "        i=0\n",
    "        j=0\n",
    "        k=0\n",
    "        while i < len(lefthalf) and j < len(righthalf):\n",
    "            if lefthalf[i] < righthalf[j]:\n",
    "                arr[k]=lefthalf[i]\n",
    "                i=i+1\n",
    "            else:\n",
    "                arr[k]=righthalf[j]\n",
    "                j=j+1\n",
    "            k=k+1"
   ]
  },
  {
   "cell_type": "code",
   "execution_count": 50,
   "metadata": {},
   "outputs": [
    {
     "data": {
      "text/plain": [
       "[1, 2, 2, 11, 11, 11, 12, 21, 2, 21, 2, 21, 2]"
      ]
     },
     "execution_count": 50,
     "metadata": {},
     "output_type": "execute_result"
    }
   ],
   "source": [
    "arr = [64, 34, 25, 12, 22, 11, 90,1,44,76,3,21,2]\n",
    "merge_sort(arr)\n",
    "arr"
   ]
  },
  {
   "cell_type": "code",
   "execution_count": 55,
   "metadata": {},
   "outputs": [],
   "source": [
    "def merge_sort(arr):\n",
    "    if len(arr) > 1 :\n",
    "        \n",
    "        mid = len(arr)//2\n",
    "    \n",
    "        leftpart = arr[:mid]\n",
    "        rightpart = arr[mid:]\n",
    "    \n",
    "        merge_sort(leftpart)\n",
    "        merge_sort(rightpart)\n",
    "    \n",
    "        i=0\n",
    "        j=0\n",
    "        k=0\n",
    "    \n",
    "        while i < len(leftpart) and j < len(rightpart):\n",
    "        \n",
    "            if leftpart[i] < rightpart[j]:\n",
    "                arr[k] = leftpart[i]\n",
    "                i = i+1\n",
    "            else :\n",
    "                arr[k] = rightpart[j]\n",
    "                j=j+1\n",
    "            \n",
    "            k=k+1\n",
    "        \n",
    "        while i < len(leftpart):\n",
    "            arr[k]=leftpart[i]\n",
    "            i = i+1\n",
    "            k = k+1\n",
    "        \n",
    "        while j < len(rightpart):\n",
    "            arr[k] = rightpart[j]\n",
    "            j = j+1\n",
    "            k = k+1\n",
    "        \n",
    "    "
   ]
  },
  {
   "cell_type": "code",
   "execution_count": 56,
   "metadata": {},
   "outputs": [
    {
     "data": {
      "text/plain": [
       "[1, 2, 3, 11, 12, 21, 22, 25, 34, 44, 64, 76, 90]"
      ]
     },
     "execution_count": 56,
     "metadata": {},
     "output_type": "execute_result"
    }
   ],
   "source": [
    "arr = [64, 34, 25, 12, 22, 11, 90,1,44,76,3,21,2]\n",
    "merge_sort(arr)\n",
    "arr"
   ]
  },
  {
   "cell_type": "code",
   "execution_count": 71,
   "metadata": {},
   "outputs": [],
   "source": [
    "def quick_sort(arr):\n",
    "    \n",
    "    length = len(arr)\n",
    "    if length <= 1 :\n",
    "        return arr\n",
    "    else :\n",
    "        pivot = arr.pop()\n",
    "        \n",
    "    greater = []\n",
    "    lower = []\n",
    "        \n",
    "    for i in arr :\n",
    "        if i > pivot :\n",
    "            greater.append(i)\n",
    "        else : \n",
    "            lower.append(i)\n",
    "                \n",
    "    return quick_sort(lower) + [pivot] + quick_sort(greater)"
   ]
  },
  {
   "cell_type": "code",
   "execution_count": 72,
   "metadata": {},
   "outputs": [
    {
     "data": {
      "text/plain": [
       "[64, 34, 25, 12, 22, 11, 90, 1, 44, 76, 3, 21]"
      ]
     },
     "execution_count": 72,
     "metadata": {},
     "output_type": "execute_result"
    }
   ],
   "source": [
    "arr = [64, 34, 25, 12, 22, 11, 90,1,44,76,3,21,2]\n",
    "quick_sort(arr)\n",
    "arr"
   ]
  },
  {
   "cell_type": "code",
   "execution_count": 73,
   "metadata": {},
   "outputs": [],
   "source": [
    "def quick_sort(sequence):\n",
    "    length = len(sequence)\n",
    "    if length <= 1:\n",
    "        return sequence\n",
    "    else:\n",
    "        pivot = sequence.pop()\n",
    "\n",
    "    items_greater = []\n",
    "    items_lower = []\n",
    "\n",
    "    for item in sequence:\n",
    "        if item > pivot:\n",
    "            items_greater.append(item)\n",
    "\n",
    "        else:\n",
    "            items_lower.append(item)\n",
    "\n",
    "    return quick_sort(items_lower) + [pivot] + quick_sort(items_greater)\n"
   ]
  },
  {
   "cell_type": "code",
   "execution_count": 76,
   "metadata": {},
   "outputs": [
    {
     "data": {
      "text/plain": [
       "[1, 2, 3, 11, 12, 21, 22, 25, 34, 44, 64, 76, 90, 100]"
      ]
     },
     "execution_count": 76,
     "metadata": {},
     "output_type": "execute_result"
    }
   ],
   "source": [
    "arr = [64, 34, 25, 12, 22, 11, 90,1,44,76,3,21,2,100]\n",
    "quick_sort(arr)\n"
   ]
  },
  {
   "cell_type": "code",
   "execution_count": 90,
   "metadata": {},
   "outputs": [],
   "source": [
    "arr = ['pope','rope','slope','hope']"
   ]
  },
  {
   "cell_type": "code",
   "execution_count": 95,
   "metadata": {},
   "outputs": [],
   "source": [
    "d = {}\n",
    "for i  in arr :\n",
    "    k = i\n",
    "    for j in range(len(k)):\n",
    "        l = k[:j] + \"_\" + k[j+1:]\n",
    "        if l in d :\n",
    "            d[j].append(k)\n",
    "        else :\n",
    "            d[j]=[k]"
   ]
  },
  {
   "cell_type": "code",
   "execution_count": 96,
   "metadata": {},
   "outputs": [
    {
     "data": {
      "text/plain": [
       "{0: ['hope'], 1: ['hope'], 2: ['hope'], 3: ['hope'], 4: ['slope']}"
      ]
     },
     "execution_count": 96,
     "metadata": {},
     "output_type": "execute_result"
    }
   ],
   "source": [
    "d"
   ]
  },
  {
   "cell_type": "code",
   "execution_count": 6,
   "metadata": {},
   "outputs": [
    {
     "name": "stdout",
     "output_type": "stream",
     "text": [
      "Enter number of users4\n",
      "Enter values234\n",
      "Enter values456\n",
      "Enter values467\n",
      "Enter values2345\n"
     ]
    }
   ],
   "source": [
    "n = int(input (\"Enter number of users\"))\n",
    "lst = []\n",
    "for i in range(0,n) :\n",
    "    k = int(input (\"Enter values\"))\n",
    "    lst.append(k)\n",
    "    "
   ]
  },
  {
   "cell_type": "code",
   "execution_count": 11,
   "metadata": {},
   "outputs": [],
   "source": [
    "def solution(lst) : \n",
    "    r =[]\n",
    "    fr = []\n",
    "    even = 0\n",
    "    odd = 0\n",
    "    \n",
    "    while len(lst) > 0 :\n",
    "        \n",
    "        for i in lst:\n",
    "            \n",
    "            k=0\n",
    "            j=1\n",
    "            \n",
    "            while j > 0:\n",
    "                \n",
    "                k = i%10\n",
    "                j = j//10\n",
    "                r.append(k)\n",
    "                \n",
    "            for s in range(len(r)):\n",
    "                \n",
    "                if s%2 == 0:\n",
    "                    even += r[s]\n",
    "                else :\n",
    "                    odd +=r[s]\n",
    "                    \n",
    "            final = even - odd\n",
    "            fr.append(final)\n",
    "        \n",
    "    return fr\n",
    "                \n",
    "    "
   ]
  },
  {
   "cell_type": "code",
   "execution_count": 63,
   "metadata": {},
   "outputs": [],
   "source": [
    "lst = [2222,2345,6789,2033]\n",
    "\n",
    "def getResult(lst):\n",
    " \n",
    "    \n",
    "    \n",
    "    last = []\n",
    "    for i in lst :\n",
    "        proOdd = 1\n",
    "        proEven = 1\n",
    "    \n",
    "        num = str(i)\n",
    "\n",
    "\n",
    "        for k in range(len(num)):\n",
    "            if(k % 2 == 0):\n",
    "                proEven = proEven*int(num[k])\n",
    "            else:\n",
    "                proOdd = proOdd*int(num[k])\n",
    "\n",
    "        final= proEven - proOdd\n",
    "        last.append(final)\n",
    "    return last"
   ]
  },
  {
   "cell_type": "code",
   "execution_count": 64,
   "metadata": {},
   "outputs": [
    {
     "data": {
      "text/plain": [
       "[0, -7, -15, 6]"
      ]
     },
     "execution_count": 64,
     "metadata": {},
     "output_type": "execute_result"
    }
   ],
   "source": [
    "getResult(lst)"
   ]
  },
  {
   "cell_type": "code",
   "execution_count": 48,
   "metadata": {},
   "outputs": [],
   "source": [
    "n = 23456\n",
    "num = str(n)"
   ]
  },
  {
   "cell_type": "code",
   "execution_count": 49,
   "metadata": {},
   "outputs": [
    {
     "data": {
      "text/plain": [
       "5"
      ]
     },
     "execution_count": 49,
     "metadata": {},
     "output_type": "execute_result"
    }
   ],
   "source": [
    "len(num)"
   ]
  },
  {
   "cell_type": "code",
   "execution_count": 56,
   "metadata": {},
   "outputs": [
    {
     "name": "stdout",
     "output_type": "stream",
     "text": [
      "2\n",
      "3\n",
      "4\n",
      "5\n"
     ]
    }
   ],
   "source": [
    "for i in num :\n",
    "    print (i)"
   ]
  },
  {
   "cell_type": "code",
   "execution_count": 61,
   "metadata": {},
   "outputs": [
    {
     "name": "stdout",
     "output_type": "stream",
     "text": [
      "2222\n",
      "2345\n",
      "[0, -7]\n"
     ]
    }
   ],
   "source": [
    "\n",
    "last = []\n",
    "lst = [2222,2345]\n",
    "for i in lst :\n",
    "    proOdd = 1\n",
    "    proEven = 1\n",
    "    print (i)\n",
    "    num = str(i)\n",
    "\n",
    "\n",
    "    for k in range(len(num)):\n",
    "        if(k % 2 == 0):\n",
    "            proEven = proEven*int(num[k])\n",
    "        else:\n",
    "            proOdd = proOdd*int(num[k])\n",
    "    final = proEven - proOdd\n",
    "    last.append(final)\n",
    "print(last)"
   ]
  },
  {
   "cell_type": "code",
   "execution_count": 2,
   "metadata": {},
   "outputs": [
    {
     "name": "stdout",
     "output_type": "stream",
     "text": [
      "Enter the nums followed by space3 657 789 567\n"
     ]
    }
   ],
   "source": [
    "k = input(\"Enter the nums followed by space\")\n",
    "lst = k.split(\" \")"
   ]
  },
  {
   "cell_type": "code",
   "execution_count": null,
   "metadata": {},
   "outputs": [],
   "source": []
  }
 ],
 "metadata": {
  "kernelspec": {
   "display_name": "Python 3",
   "language": "python",
   "name": "python3"
  },
  "language_info": {
   "codemirror_mode": {
    "name": "ipython",
    "version": 3
   },
   "file_extension": ".py",
   "mimetype": "text/x-python",
   "name": "python",
   "nbconvert_exporter": "python",
   "pygments_lexer": "ipython3",
   "version": "3.7.4"
  }
 },
 "nbformat": 4,
 "nbformat_minor": 2
}
