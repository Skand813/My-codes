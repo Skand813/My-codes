{
 "cells": [
  {
   "cell_type": "code",
   "execution_count": 15,
   "metadata": {},
   "outputs": [],
   "source": [
    "import pandas as pd\n",
    "import wikipedia \n",
    "import time\n",
    "\n",
    "nowtime = time.time()\n",
    "\n",
    "#f4=open(\"MDesc_WP\" + str(nowtime) + \".json\", \"w+\")\n",
    "\n",
    "df = pd.read_csv(r'/Users/smani/Downloads/newskills.csv')\n",
    "slist = df[\"display_name\"].tolist()\n",
    "sdict= {}\n",
    "for i in slist[:100]:\n",
    "    rlist = []\n",
    "    try :\n",
    "        if wikipedia.summary(i,sentences=2) is True :\n",
    "            sdict[\"Skills_name\"]= i\n",
    "            sdict[\"Description_WP\"] = wikipedia.summary(i,sentences=2)\n",
    "            \n",
    "            \n",
    "    \n",
    "        #skill_dict[\"Skill_name\"]= items\n",
    "        #skill_dict[\"Description\"] = wikipedia.summary(items,sentences=2)\n",
    "        #f4.write((str(sdict) + \",\"))\n",
    "        \n",
    "\n",
    "    except wikipedia.exceptions.DisambiguationError as e :\n",
    "        rlist.append(i)\n",
    "        f2.write((str(relist) + \",\"))\n",
    "        pass\n",
    "        #f2.write((str(skill_no_match_list) + \",\")) \n",
    "        #json.dump(skill_error_list1,f2)\n",
    "        #print(e)\n",
    "    except wikipedia.exceptions.PageError as e :\n",
    "        rlist.append(i)\n",
    "        pass\n",
    "        #f2.write((str(skill_no_match_list) + \",\")) \n",
    "        #json.dump(skill_error_list1, f2)\n",
    "        #print(e)\n",
    "    except ConnectionError as e:\n",
    "        pass\n",
    "        #print(e)"
   ]
  },
  {
   "cell_type": "code",
   "execution_count": 8,
   "metadata": {},
   "outputs": [],
   "source": [
    "\n",
    "   "
   ]
  },
  {
   "cell_type": "code",
   "execution_count": 11,
   "metadata": {},
   "outputs": [
    {
     "data": {
      "text/plain": [
       "[]"
      ]
     },
     "execution_count": 11,
     "metadata": {},
     "output_type": "execute_result"
    }
   ],
   "source": [
    "rlist"
   ]
  },
  {
   "cell_type": "code",
   "execution_count": 21,
   "metadata": {},
   "outputs": [],
   "source": [
    "import pandas as pd\n",
    "import wikipedia \n",
    "import time\n",
    "\n",
    "nowtime = time.time()\n",
    "\n",
    "f1=open(\"LastDesc_WP\" + str(nowtime) + \".json\", \"w+\")\n",
    "f2=open(\"LastRest_WP\" + str(nowtime) + \".json\", \"w+\")\n",
    "\n",
    "df = pd.read_csv(r'/Users/smani/Downloads/newskills.csv')\n",
    "slist = df[\"display_name\"].tolist()\n",
    "sdict = {}\n",
    "relist = []\n",
    "\n",
    "for i in slist[:308] :\n",
    "    try :\n",
    "        sdict[\"Skill\"]= i\n",
    "        sdict[\"Description\"]= wikipedia.summary(i,sentences=2)\n",
    "        f1.write((str(sdict) + \",\"))\n",
    "        #print(sdict)\n",
    "        \n",
    "    except wikipedia.exceptions.DisambiguationError as e :\n",
    "        relist.append(i)\n",
    "        f2.write((str(relist) + \",\"))\n",
    "        \n",
    "    except wikipedia.exceptions.PageError as e :\n",
    "        relist.append(i)\n",
    "        f2.write((str(relist) + \",\"))\n",
    "        \n",
    "    except ConnectionError as e:\n",
    "        pass\n",
    "    \n",
    "        \n",
    "        "
   ]
  },
  {
   "cell_type": "code",
   "execution_count": 20,
   "metadata": {},
   "outputs": [
    {
     "data": {
      "text/plain": [
       "['SAB', 'Cype']"
      ]
     },
     "execution_count": 20,
     "metadata": {},
     "output_type": "execute_result"
    }
   ],
   "source": [
    "relist"
   ]
  },
  {
   "cell_type": "code",
   "execution_count": 18,
   "metadata": {},
   "outputs": [
    {
     "data": {
      "text/plain": [
       "'Contemporary art is the art of today, produced in the second half of the 20th century or in the 21st century. Contemporary artists work in a globally influenced, culturally diverse, and technologically advancing world. Their art is a dynamic combination of materials, methods, concepts, and subjects that continue the challenging of boundaries that was already well underway in the 20th century. Diverse and eclectic, contemporary art as a whole is distinguished by the very lack of a uniform, organising principle, ideology, or \"-ism\". Contemporary art is part of a cultural dialogue that concerns larger contextual frameworks such as personal and cultural identity, family, community, and nationality.\\nIn vernacular English, modern and contemporary are synonyms, resulting in some conflation and confusion of the terms modern art and contemporary art by non-specialists.\\n\\n'"
      ]
     },
     "execution_count": 18,
     "metadata": {},
     "output_type": "execute_result"
    }
   ],
   "source": [
    "wikipedia.summary(\"Contemporary art\")"
   ]
  },
  {
   "cell_type": "code",
   "execution_count": null,
   "metadata": {},
   "outputs": [],
   "source": []
  }
 ],
 "metadata": {
  "kernelspec": {
   "display_name": "Python 3",
   "language": "python",
   "name": "python3"
  },
  "language_info": {
   "codemirror_mode": {
    "name": "ipython",
    "version": 3
   },
   "file_extension": ".py",
   "mimetype": "text/x-python",
   "name": "python",
   "nbconvert_exporter": "python",
   "pygments_lexer": "ipython3",
   "version": "3.7.4"
  }
 },
 "nbformat": 4,
 "nbformat_minor": 2
}
