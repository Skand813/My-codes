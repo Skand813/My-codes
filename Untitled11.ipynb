{
 "cells": [
  {
   "cell_type": "code",
   "execution_count": 1,
   "metadata": {},
   "outputs": [],
   "source": [
    "import pandas as pd\n",
    "import json\n",
    "import time\n",
    "\n",
    "nowtime = time.time()\n",
    "\n",
    "df1 = pd.read_excel(r'/Users/smani/Downloads/Curation_Results_Local.xlsx')\n",
    "df2 = pd.read_excel(r'/Users/smani/Downloads/2_sent.xlsx')\n",
    "df3 = pd.read_excel(r'/Users/smani/Downloads/esco_local.xls')\n",
    "\n",
    "\n",
    "f1=open(\"Manual_Found_Desc_\" + str(nowtime) + \".json\", \"w+\")\n",
    "\n",
    "f2=open(\"Manual_Found_NoDesc_\" + str(nowtime) + \".json\", \"w+\")\n",
    "desc_dict1 = dict(zip(df2.Canonical, df2.Description))\n",
    "desc_dict2 = dict(zip(df3.CF_2, df3.description_l))\n",
    "\n",
    "desc_list = df1[\"Canonical Name\"].tolist()\n",
    "desc_list=list( dict.fromkeys(desc_list) ) \n",
    "res_dict = dict()\n",
    "res_list_nm = []\n",
    "for items in desc_list:\n",
    "    \n",
    "    if items in desc_dict1.keys() :\n",
    "        \n",
    "        res_dict[\"Skill_name\"]= items\n",
    "        res_dict[\"Description_2sent\"]= desc_dict1[items]\n",
    "        f1.write(str(res_dict) + \",\")\n",
    "        #print(res_dict)\n",
    "    else :\n",
    "        res_list_nm.append(items)\n",
    "        #print(\"Item not found : {}\" .format(items))\n",
    "res_list_nm2 = []\n",
    "for items2 in res_list_nm:\n",
    "    \n",
    "    if items2 in desc_dict2.keys() :\n",
    "        \n",
    "        res_dict[\"Skill_name\"]= items2\n",
    "        res_dict[\"Description_2sent\"]= desc_dict2[items2]\n",
    "        f1.write(str(res_dict) + \",\")\n",
    "        #print(res_dict)\n",
    "    else :\n",
    "        res_list_nm2.append(items)\n",
    "\n",
    "\n"
   ]
  },
  {
   "cell_type": "code",
   "execution_count": 2,
   "metadata": {},
   "outputs": [
    {
     "name": "stdout",
     "output_type": "stream",
     "text": [
      "{'Skill_name': 'Food Storage', 'Description_2sent': 'The proper conditions and methods to store food to keep it from spoiling, taking into account humidity, light, temperature and other environmental factors.'}\n",
      "{'Skill_name': 'Media Formats', 'Description_2sent': 'The various formats in which media can be made available to the audience, such as paper books, e-books, tapes, and analogue signal.'}\n",
      "{'Skill_name': 'Food Science', 'Description_2sent': 'The study of the physical, biological, and chemical makeup of food and the scientific concepts underlying food processing and nutrition.'}\n",
      "{'Skill_name': 'Office Administration', 'Description_2sent': 'The paperwork processes related to the administrative areas of an office environment. The activities or processes may include financial planning, record keeping and billing and managing the general logistics of an organisation.'}\n",
      "{'Skill_name': 'Food Preservation', 'Description_2sent': 'Deterioration factors, controlling factors (temperature, additives, humidity, pH, water activity, etc., including packaging) and food processing methods to preserve food products.'}\n",
      "{'Skill_name': 'Rapid Application Development', 'Description_2sent': 'The rapid application development model is a methodology to design software systems and applications.'}\n",
      "{'Skill_name': 'Tourism Market', 'Description_2sent': 'The study of the tourism market on a¬†international, regional and¬†local level and¬†considering worldwide tourist destinations.'}\n",
      "{'Skill_name': 'Electromechanics', 'Description_2sent': 'The engineering processes that combine electrical and mechanical engineering in the application of electromechanics in devices that need electricity to create mechanical movement or devices that create electricity by mechanical movement.'}\n",
      "{'Skill_name': 'Medical Devices', 'Description_2sent': 'Equipment and devices used in the diagnosis, prevention, and treatment of medical issues. Medical devices cover a wide range of products, ranging from syringes and protheses to MRI machinery and hearing aids.'}\n",
      "{'Skill_name': 'Logistics', 'Description_2sent': 'The management of resources such as materials, time, and information to control the flow of products between the point of origin and the point of use. This includes the production, packaging, storing and transportation of goods.'}\n",
      "{'Skill_name': 'Football', 'Description_2sent': 'The rules and different styles of the game, techniques of football and defensive and attacking tactics such as ball possession, counter-attacking, pressing and counter-pressing.'}\n",
      "{'Skill_name': 'Photography', 'Description_2sent': 'Art and practice of creating aesthetically appealing images by recording light or electromagnetic radiation.'}\n",
      "{'Skill_name': 'Golf', 'Description_2sent': 'The rules and techniques of golf such as tee shot, chipping and putting.'}\n",
      "{'Skill_name': 'Tennis', 'Description_2sent': 'The techniques and rules of tennis such as the different strokes, types of courts and how to play on them, equipment and scoring.'}\n",
      "{'Skill_name': 'Metrology', 'Description_2sent': 'The methods and theory of measurement in a scientific context, including internationally accepted units of measurement, practical realisation of these units, and interpretation of measurements.'}\n",
      "{'Skill_name': 'Philosophy', 'Description_2sent': 'The different philosophical systems, their basic principles, values, ethics, ways of thinking, customs, practices and their impact on human culture.'}\n",
      "{'Skill_name': 'Typography', 'Description_2sent': 'The procedure of arranging  written texts for printing processes. '}\n",
      "{'Skill_name': 'Surgery', 'Description_2sent': 'The essential procedures in surgical practice such as the principle of safe surgery, the pathophysiology of wound healing, knot tying, tissue handling, retraction and any other instruments and procedures used in the operating room.'}\n",
      "{'Skill_name': 'Animal Welfare', 'Description_2sent': 'Universally recognized animal welfare needs as applied to species, situation and occupation. These¬†are:\\n\\n \\n\\t need for a suitable environment \\n\\t need for a suitable diet \\n\\t need to be able to exhibit normal behaviour patterns \\n\\t need to be housed with, or apart, from other animals \\n\\t need to be protected from pain, suffering, injury and disease. \\n \\n'}\n"
     ]
    }
   ],
   "source": [
    "res_list_nm2 = []\n",
    "for items in res_list_nm:\n",
    "    \n",
    "    if items in desc_dict2.keys() :\n",
    "        \n",
    "        res_dict[\"Skill_name\"]= items\n",
    "        res_dict[\"Description_2sent\"]= desc_dict2[items]\n",
    "        #f1.write(str(res_dict) + \",\")\n",
    "        print(res_dict)\n",
    "    else :\n",
    "        res_list_nm2.append(items)"
   ]
  },
  {
   "cell_type": "code",
   "execution_count": 7,
   "metadata": {},
   "outputs": [
    {
     "data": {
      "text/plain": [
       "372"
      ]
     },
     "execution_count": 7,
     "metadata": {},
     "output_type": "execute_result"
    }
   ],
   "source": [
    "len(res_list_nm2)\n"
   ]
  },
  {
   "cell_type": "code",
   "execution_count": 5,
   "metadata": {},
   "outputs": [
    {
     "data": {
      "text/plain": [
       "2"
      ]
     },
     "execution_count": 5,
     "metadata": {},
     "output_type": "execute_result"
    }
   ],
   "source": [
    "len(res_dict.keys())"
   ]
  },
  {
   "cell_type": "code",
   "execution_count": 8,
   "metadata": {},
   "outputs": [],
   "source": [
    "import wikipedia\n",
    "import warnings\n",
    "import time\n",
    "#warnings.filterwarnings('ignore', category=GuessedAtParserWarning)\n",
    "warnings.catch_warnings()\n",
    "warnings.simplefilter(\"ignore\")\n",
    "wp_dict = {}\n",
    "skill_noWP = []\n",
    "f4=open(\"Manual_Found_Desc_WP\" + str(nowtime) + \".json\", \"w+\")\n",
    "for entry in res_list_nm2 :\n",
    "    try :\n",
    "        wp_dict[\"Skills_name\"]= entry\n",
    "        wp_dict[\"Description_WP\"] = wikipedia.summary(entry,sentences=2)\n",
    "    \n",
    "        #skill_dict[\"Skill_name\"]= items\n",
    "        #skill_dict[\"Description\"] = wikipedia.summary(items,sentences=2)\n",
    "        f4.write((str(wp_dict) + \",\"))\n",
    "        #print (skill_dict)\n",
    "\n",
    "    except wikipedia.exceptions.DisambiguationError as e :\n",
    "        skill_noWP.append(entry)\n",
    "        #f2.write((str(skill_no_match_list) + \",\")) \n",
    "        #json.dump(skill_error_list1,f2)\n",
    "        #print(e.options)\n",
    "    except wikipedia.exceptions.PageError as e :\n",
    "        skill_noWP.append(entry)\n",
    "        #f2.write((str(skill_no_match_list) + \",\")) \n",
    "        #json.dump(skill_error_list1, f2)\n",
    "        #print(e)\n",
    "    except ConnectionError as e:\n",
    "        pass\n",
    "        #print(e)\n",
    "   "
   ]
  },
  {
   "cell_type": "code",
   "execution_count": 9,
   "metadata": {},
   "outputs": [
    {
     "data": {
      "text/plain": [
       "['Entrepreneurial Cultures',\n",
       " 'Assess Patient Needs',\n",
       " 'Modified Diets',\n",
       " 'Civil Laws',\n",
       " 'Agricutlural Operations',\n",
       " 'Chefs',\n",
       " 'Oral Communication',\n",
       " 'Automotive Sales',\n",
       " 'Resolving Customer Problems',\n",
       " 'Administration',\n",
       " 'Autodesk Qto',\n",
       " 'Mechanicals',\n",
       " 'Tooling',\n",
       " 'Oracle10G',\n",
       " 'Campaigns',\n",
       " 'Maintenance',\n",
       " 'Air Forces',\n",
       " 'Bedding',\n",
       " 'Housekeeper',\n",
       " 'Masonry',\n",
       " 'Epiccare Inpatient',\n",
       " 'Hippa Compliance',\n",
       " 'Bridal Consultant',\n",
       " 'Client Facing',\n",
       " 'Line Installer And Repairer',\n",
       " 'Truck Technician',\n",
       " 'Epic Optime',\n",
       " 'Interqual',\n",
       " 'Personal Banker',\n",
       " 'Crane Technician',\n",
       " 'Xactimate Software',\n",
       " 'Waiter',\n",
       " 'Oracle Payroll ']"
      ]
     },
     "execution_count": 9,
     "metadata": {},
     "output_type": "execute_result"
    }
   ],
   "source": [
    "skill_noWP"
   ]
  },
  {
   "cell_type": "code",
   "execution_count": null,
   "metadata": {},
   "outputs": [],
   "source": []
  }
 ],
 "metadata": {
  "kernelspec": {
   "display_name": "Python 3",
   "language": "python",
   "name": "python3"
  },
  "language_info": {
   "codemirror_mode": {
    "name": "ipython",
    "version": 3
   },
   "file_extension": ".py",
   "mimetype": "text/x-python",
   "name": "python",
   "nbconvert_exporter": "python",
   "pygments_lexer": "ipython3",
   "version": "3.7.4"
  }
 },
 "nbformat": 4,
 "nbformat_minor": 2
}
