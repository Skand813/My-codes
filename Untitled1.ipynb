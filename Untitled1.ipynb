{
 "cells": [
  {
   "cell_type": "code",
   "execution_count": null,
   "metadata": {},
   "outputs": [],
   "source": [
    "from googletrans import Translator\n",
    "from googletrans import LANGUAGES\n",
    "trans = Translator()\n",
    "\n"
   ]
  },
  {
   "cell_type": "code",
   "execution_count": null,
   "metadata": {},
   "outputs": [],
   "source": [
    "trans.translate('Hola')"
   ]
  },
  {
   "cell_type": "code",
   "execution_count": null,
   "metadata": {},
   "outputs": [],
   "source": [
    "pip uninstall googletrans -y\n"
   ]
  },
  {
   "cell_type": "code",
   "execution_count": 2,
   "metadata": {},
   "outputs": [
    {
     "name": "stdout",
     "output_type": "stream",
     "text": [
      "Collecting googletrans==3.1.0a0\n",
      "  Downloading googletrans-3.1.0a0.tar.gz (19 kB)\n",
      "Requirement already satisfied: httpx==0.13.3 in /opt/anaconda3/envs/virtual_workspace/lib/python3.7/site-packages (from googletrans==3.1.0a0) (0.13.3)\n",
      "Requirement already satisfied: idna==2.* in /opt/anaconda3/envs/virtual_workspace/lib/python3.7/site-packages (from httpx==0.13.3->googletrans==3.1.0a0) (2.10)\n",
      "Requirement already satisfied: sniffio in /opt/anaconda3/envs/virtual_workspace/lib/python3.7/site-packages (from httpx==0.13.3->googletrans==3.1.0a0) (1.2.0)\n",
      "Requirement already satisfied: chardet==3.* in /opt/anaconda3/envs/virtual_workspace/lib/python3.7/site-packages (from httpx==0.13.3->googletrans==3.1.0a0) (3.0.4)\n",
      "Requirement already satisfied: httpcore==0.9.* in /opt/anaconda3/envs/virtual_workspace/lib/python3.7/site-packages (from httpx==0.13.3->googletrans==3.1.0a0) (0.9.1)\n",
      "Requirement already satisfied: certifi in /opt/anaconda3/envs/virtual_workspace/lib/python3.7/site-packages (from httpx==0.13.3->googletrans==3.1.0a0) (2020.12.5)\n",
      "Requirement already satisfied: hstspreload in /opt/anaconda3/envs/virtual_workspace/lib/python3.7/site-packages (from httpx==0.13.3->googletrans==3.1.0a0) (2020.12.22)\n",
      "Requirement already satisfied: rfc3986<2,>=1.3 in /opt/anaconda3/envs/virtual_workspace/lib/python3.7/site-packages (from httpx==0.13.3->googletrans==3.1.0a0) (1.4.0)\n",
      "Requirement already satisfied: h2==3.* in /opt/anaconda3/envs/virtual_workspace/lib/python3.7/site-packages (from httpcore==0.9.*->httpx==0.13.3->googletrans==3.1.0a0) (3.2.0)\n",
      "Requirement already satisfied: h11<0.10,>=0.8 in /opt/anaconda3/envs/virtual_workspace/lib/python3.7/site-packages (from httpcore==0.9.*->httpx==0.13.3->googletrans==3.1.0a0) (0.9.0)\n",
      "Requirement already satisfied: hyperframe<6,>=5.2.0 in /opt/anaconda3/envs/virtual_workspace/lib/python3.7/site-packages (from h2==3.*->httpcore==0.9.*->httpx==0.13.3->googletrans==3.1.0a0) (5.2.0)\n",
      "Requirement already satisfied: hpack<4,>=3.0 in /opt/anaconda3/envs/virtual_workspace/lib/python3.7/site-packages (from h2==3.*->httpcore==0.9.*->httpx==0.13.3->googletrans==3.1.0a0) (3.0.0)\n",
      "Building wheels for collected packages: googletrans\n",
      "  Building wheel for googletrans (setup.py) ... \u001b[?25ldone\n",
      "\u001b[?25h  Created wheel for googletrans: filename=googletrans-3.1.0a0-py3-none-any.whl size=16368 sha256=871bccb9126f95589746ab800bf21b4e0122616f7847bac2c7dcd11b7bc9dda8\n",
      "  Stored in directory: /Users/smani/Library/Caches/pip/wheels/0c/be/fe/93a6a40ffe386e16089e44dad9018ebab9dc4cb9eb7eab65ae\n",
      "Successfully built googletrans\n",
      "Installing collected packages: googletrans\n",
      "Successfully installed googletrans-3.1.0a0\n",
      "Note: you may need to restart the kernel to use updated packages.\n"
     ]
    }
   ],
   "source": [
    "pip install googletrans==3.1.0a0\n"
   ]
  },
  {
   "cell_type": "code",
   "execution_count": 49,
   "metadata": {},
   "outputs": [],
   "source": [
    "from googletrans import Translator\n",
    "from googletrans import LANGUAGES\n",
    "trans = Translator()\n"
   ]
  },
  {
   "cell_type": "code",
   "execution_count": 50,
   "metadata": {},
   "outputs": [],
   "source": [
    "t = trans.translate('Ecole de conduite Tecnic Moto Sherbrooke',src = 'fr',dest='en')"
   ]
  },
  {
   "cell_type": "code",
   "execution_count": 51,
   "metadata": {},
   "outputs": [
    {
     "name": "stdout",
     "output_type": "stream",
     "text": [
      "Translated(src=en, dest=en, text=Ecole de conduite Tecnic Moto Sherbrooke, pronunciation=Ecole de conduite Tecnic Moto Sherbrooke, extra_data=\"{'translat...\")\n"
     ]
    }
   ],
   "source": [
    "print(t)"
   ]
  },
  {
   "cell_type": "code",
   "execution_count": 60,
   "metadata": {},
   "outputs": [
    {
     "name": "stdout",
     "output_type": "stream",
     "text": [
      "[' 9008-9863 Québec Inc - École de conduite Succès Plus 987 boulevard Décarie Saint-Laurent  QC H4L 3M6  ', ' 9226-2518 Québec Inc.- Universal driving school 1485  rue McDonald  bureau 203 Montréal  QC H4L 2A8  ', ' 9258-8278 Quebec Inc. Ecole de conduite VIP 5200 de la Savane  bureau 240 Montréal  QC H4P 2M8  ', ' Access Dorval 253  avenue Dorval Dorval H9S 3H5  ', ' Access Lachine 2675  rue Victoria  Suite A Lachine H8S 0A7  ', ' Access PC 13910 boul. de Pierrefonds Pierrefonds  QC H9A 1A8  ', ' Access Waskaganish 27  Smoky Hill  Waskaganish J0M 1R0   ', ' Alpha École de conduite 188  rue l’Évêché Ouest Rimouski G5L 4H9  ', ' Atlas Conduite 8056  boulevard Saint-Michel  Montréal  QC H1Z 3E1  ', ' Auto École Bruno 26  rue Jean-Talon Ouest Montréal  QC H2R 2W5  ', ' Auto École Éco-Conduite Inc. 111  boulevard des Laurentides  bureau 200 Laval H7G 2T2  ', ' Auto École El Maestro 3516-300 Avenue Lacombe Montréal H3T 1M1  ', ' Auto école Formaconduite Inc. 9238  boulevard Lacordaire Saint-Léonard H1R 2B7  ', ' Auto École Gabriel Leblanc  B-8  boul. Saint-Benoît Ouest Amqui G5J 2C6  ', ' Auto École Lac St-Jean Inc. (Tecnic Alma) 75  boulevard Saint-Luc  Ouest Alma G8B 6W7  ', ' Auto École NDR Rimouski  1792  Isidore Le Chasseur Mont-Joli G5H 2Z4  ', ' Auto École NDR Rimouski  380  rue Cathédrale Rimouski G5L 5K9  ', ' Auto école Steeve Duguay (Cabano) 80  rue Vieux Chemin Temiscouata-Sur-le-Lac G0L 1E0  ', ' Auto école Steeve Duguay (La Pocatière) 708  4e avenue  bureau 100 La Pocatière G0R 1Z0  ', ' Auto école Steeve Duguay (Rivière-Du-Loup) 431  rue la Fontaine Rivière-du-Loup G5R 3B9  ']\n"
     ]
    },
    {
     "ename": "AttributeError",
     "evalue": "'list' object has no attribute 'to_csv'",
     "output_type": "error",
     "traceback": [
      "\u001b[0;31m---------------------------------------------------------------------------\u001b[0m",
      "\u001b[0;31mAttributeError\u001b[0m                            Traceback (most recent call last)",
      "\u001b[0;32m<ipython-input-60-c3c9891288a7>\u001b[0m in \u001b[0;36m<module>\u001b[0;34m\u001b[0m\n\u001b[1;32m     29\u001b[0m \u001b[0mprint\u001b[0m\u001b[0;34m(\u001b[0m\u001b[0mfinal_data\u001b[0m\u001b[0;34m)\u001b[0m\u001b[0;34m\u001b[0m\u001b[0;34m\u001b[0m\u001b[0m\n\u001b[1;32m     30\u001b[0m \u001b[0;31m#f.write(str(final_data))\u001b[0m\u001b[0;34m\u001b[0m\u001b[0;34m\u001b[0m\u001b[0;34m\u001b[0m\u001b[0m\n\u001b[0;32m---> 31\u001b[0;31m \u001b[0mfinal_data\u001b[0m\u001b[0;34m.\u001b[0m\u001b[0mto_csv\u001b[0m\u001b[0;34m(\u001b[0m\u001b[0;34m\"pqr2.csv\"\u001b[0m\u001b[0;34m)\u001b[0m\u001b[0;34m\u001b[0m\u001b[0;34m\u001b[0m\u001b[0m\n\u001b[0m\u001b[1;32m     32\u001b[0m \u001b[0;34m\u001b[0m\u001b[0m\n",
      "\u001b[0;31mAttributeError\u001b[0m: 'list' object has no attribute 'to_csv'"
     ]
    }
   ],
   "source": [
    "#from googletrans import Translator\n",
    "#from googletrans import LANGUAGES\n",
    "import pandas as pd\n",
    "#import json\n",
    "import requests\n",
    "from bs4 import BeautifulSoup\n",
    "import time\n",
    "final_data = []\n",
    "#nowtime = time.time()\n",
    "#f=open(\"Qubec\" + str(nowtime) + \".json\", \"w+\")\n",
    "def Qubec_links(url):\n",
    "    trans = Translator()\n",
    "    #url1 = \"https://aqtr.com//ecoles-conduite/informations-eleves/ecole-conduite-tecnic-moto-sherbrooke\"\n",
    "    resp1 = requests.get(url)\n",
    "    soup1 = BeautifulSoup(resp1.text, 'html.parser')\n",
    "    t=soup1.select(\".driving-school-sidemenu-info\")\n",
    "    res =t[0].text\n",
    "    res1 = res.replace('\\n', ' ')\n",
    "    res2 = res1.replace(',', ' ')\n",
    "    #t = trans.translate(res,src = 'fr',dest='en')\n",
    "    return res2\n",
    "    \n",
    "df = pd.read_csv(r'/Users/smani/scrapy_projects/extra_work/Qubec_reult.csv')\n",
    "links = df[\"Linksav\"].tolist()\n",
    "\n",
    "for i in links[:20] :\n",
    "    #final_data = Qubec_links(i)\n",
    "    final_data.append(Qubec_links(i))\n",
    "print(final_data)\n",
    "#f.write(str(final_data))\n",
    "final_data.to_csv(\"pqr2.csv\")\n",
    "    "
   ]
  },
  {
   "cell_type": "code",
   "execution_count": 58,
   "metadata": {},
   "outputs": [
    {
     "name": "stdout",
     "output_type": "stream",
     "text": [
      " 9008-9863 Québec Inc - École de conduite Succès Plus 987 boulevard Décarie Saint-Laurent  QC H4L 3M6  \n",
      " 9226-2518 Québec Inc.- Universal driving school 1485  rue McDonald  bureau 203 Montréal  QC H4L 2A8  \n",
      " 9258-8278 Quebec Inc. Ecole de conduite VIP 5200 de la Savane  bureau 240 Montréal  QC H4P 2M8  \n",
      " Access Dorval 253  avenue Dorval Dorval H9S 3H5  \n",
      " Access Lachine 2675  rue Victoria  Suite A Lachine H8S 0A7  \n",
      " Access PC 13910 boul. de Pierrefonds Pierrefonds  QC H9A 1A8  \n",
      " Access Waskaganish 27  Smoky Hill  Waskaganish J0M 1R0   \n",
      " Alpha École de conduite 188  rue l’Évêché Ouest Rimouski G5L 4H9  \n",
      " Atlas Conduite 8056  boulevard Saint-Michel  Montréal  QC H1Z 3E1  \n",
      " Auto École Bruno 26  rue Jean-Talon Ouest Montréal  QC H2R 2W5  \n",
      " Auto École Éco-Conduite Inc. 111  boulevard des Laurentides  bureau 200 Laval H7G 2T2  \n",
      " Auto École El Maestro 3516-300 Avenue Lacombe Montréal H3T 1M1  \n",
      " Auto école Formaconduite Inc. 9238  boulevard Lacordaire Saint-Léonard H1R 2B7  \n",
      " Auto École Gabriel Leblanc  B-8  boul. Saint-Benoît Ouest Amqui G5J 2C6  \n",
      " Auto École Lac St-Jean Inc. (Tecnic Alma) 75  boulevard Saint-Luc  Ouest Alma G8B 6W7  \n",
      " Auto École NDR Rimouski  1792  Isidore Le Chasseur Mont-Joli G5H 2Z4  \n",
      " Auto École NDR Rimouski  380  rue Cathédrale Rimouski G5L 5K9  \n",
      " Auto école Steeve Duguay (Cabano) 80  rue Vieux Chemin Temiscouata-Sur-le-Lac G0L 1E0  \n",
      " Auto école Steeve Duguay (La Pocatière) 708  4e avenue  bureau 100 La Pocatière G0R 1Z0  \n",
      " Auto école Steeve Duguay (Rivière-Du-Loup) 431  rue la Fontaine Rivière-du-Loup G5R 3B9  \n"
     ]
    }
   ],
   "source": [
    "from googletrans import Translator\n",
    "from googletrans import LANGUAGES\n",
    "\n",
    "trans = Translator()\n",
    "for i in final_data:\n",
    "    t = trans.translate(str(i),src = 'fr',dest='en')\n",
    "    print(f'{t.text}')"
   ]
  },
  {
   "cell_type": "code",
   "execution_count": 56,
   "metadata": {},
   "outputs": [
    {
     "data": {
      "text/plain": [
       "' Auto école Steeve Duguay (Rivière-Du-Loup) 431  rue la Fontaine Rivière-du-Loup G5R 3B9  '"
      ]
     },
     "execution_count": 56,
     "metadata": {},
     "output_type": "execute_result"
    }
   ],
   "source": [
    "\n",
    "final_data"
   ]
  },
  {
   "cell_type": "raw",
   "metadata": {},
   "source": []
  },
  {
   "cell_type": "code",
   "execution_count": 32,
   "metadata": {},
   "outputs": [
    {
     "name": "stdout",
     "output_type": "stream",
     "text": [
      " 9008-9863 Québec Inc - École de conduite Succès Plus 987 boulevard Décarie Saint-Laurent, QC H4L 3M6  \n",
      " 9226-2518 Québec Inc.- Universal driving school 1485, rue McDonald, bureau 203 Montréal, QC H4L 2A8  \n",
      " 9258-8278 Quebec Inc. Ecole de conduite VIP 5200 de la Savane, bureau 240 Montréal, QC H4P 2M8  \n",
      " Access Dorval 253, avenue Dorval Dorval H9S 3H5  \n",
      " Access Lachine 2675, rue Victoria, Suite A Lachine H8S 0A7  \n",
      " Access PC 13910 boul. de Pierrefonds Pierrefonds, QC H9A 1A8  \n",
      " Access Waskaganish 27, Smoky Hill  Waskaganish J0M 1R0   \n",
      " Alpha École de conduite 188, rue l’Évêché Ouest Rimouski G5L 4H9  \n",
      " Atlas Conduite 8056, boulevard Saint-Michel  Montréal, QC H1Z 3E1  \n",
      " Auto École Bruno 26, rue Jean-Talon Ouest Montréal, QC H2R 2W5  \n",
      " Auto École Éco-Conduite Inc. 111, boulevard des Laurentides, bureau 200 Laval H7G 2T2  \n",
      " Auto École El Maestro 3516-300 Avenue Lacombe Montréal H3T 1M1  \n",
      " Auto école Formaconduite Inc. 9238, boulevard Lacordaire Saint-Léonard H1R 2B7  \n",
      " Auto École Gabriel Leblanc  B-8, boul. Saint-Benoît Ouest Amqui G5J 2C6  \n",
      " Auto École Lac St-Jean Inc. (Tecnic Alma) 75, boulevard Saint-Luc  Ouest Alma G8B 6W7  \n",
      " Auto École NDR Rimouski  1792, Isidore Le Chasseur Mont-Joli G5H 2Z4  \n",
      " Auto École NDR Rimouski  380, rue Cathédrale Rimouski G5L 5K9  \n",
      " Auto école Steeve Duguay (Cabano) 80, rue Vieux Chemin Temiscouata-Sur-le-Lac G0L 1E0  \n",
      " Auto école Steeve Duguay (La Pocatière) 708, 4e avenue, bureau 100 La Pocatière G0R 1Z0  \n",
      " Auto école Steeve Duguay (Rivière-Du-Loup) 431, rue la Fontaine Rivière-du-Loup G5R 3B9  \n"
     ]
    }
   ],
   "source": [
    "from googletrans import Translator\n",
    "from googletrans import LANGUAGES\n",
    "import pandas as pd\n",
    "#import json\n",
    "import requests\n",
    "from bs4 import BeautifulSoup\n",
    "import time\n",
    "\n",
    "nowtime = time.time()\n",
    "#f=open(\"Qubec\" + str(nowtime) + \".json\", \"w+\")\n",
    "def Qubec_links(url):\n",
    "    trans = Translator()\n",
    "    #url1 = \"https://aqtr.com//ecoles-conduite/informations-eleves/ecole-conduite-tecnic-moto-sherbrooke\"\n",
    "    resp1 = requests.get(url)\n",
    "    soup1 = BeautifulSoup(resp1.text, 'html.parser')\n",
    "    t=soup1.select(\".driving-school-sidemenu-info\")\n",
    "    res =t[0].text\n",
    "    res = res.replace('\\n', ' ')\n",
    "    t = trans.translate(res,src = 'fr',dest='en')\n",
    "    return t.text\n",
    "    \n",
    "df = pd.read_csv(r'/Users/smani/scrapy_projects/extra_work/Qubec_reult.csv')\n",
    "links = df[\"Linksav\"].tolist()\n",
    "\n",
    "for i in links[:20] :\n",
    "    final_data = Qubec_links(i)\n",
    "    #f.write(str(final_data)+\",\")\n",
    "    print(final_data)"
   ]
  },
  {
   "cell_type": "code",
   "execution_count": 23,
   "metadata": {},
   "outputs": [
    {
     "data": {
      "text/plain": [
       "' Ecole de conduite Tecnic  Moto Sherbrooke 3025, rue King Ouest, bureau 56 Sherbrooke J1L 2B5  '"
      ]
     },
     "execution_count": 23,
     "metadata": {},
     "output_type": "execute_result"
    }
   ],
   "source": [
    "res"
   ]
  },
  {
   "cell_type": "code",
   "execution_count": 45,
   "metadata": {},
   "outputs": [],
   "source": [
    "t = trans.translate('Auto école Steeve Duguay (Rivière-Du-Loup) 431, rue la Fontaine Rivière-du-Loup G5R 3B9',src= 'fr' ,dest='en')"
   ]
  },
  {
   "cell_type": "code",
   "execution_count": 46,
   "metadata": {},
   "outputs": [
    {
     "name": "stdout",
     "output_type": "stream",
     "text": [
      "Translated(src=en, dest=en, text=Auto école Steeve Duguay (Rivière-Du-Loup) 431, rue la Fontaine Rivière-du-Loup G5R 3B9, pronunciation=Auto école Steeve Duguay (Rivière-Du-Loup) 431, rue la Fontaine Rivière-du-Loup G5R 3B9, extra_data=\"{'translat...\")\n"
     ]
    }
   ],
   "source": [
    "print(t)"
   ]
  },
  {
   "cell_type": "code",
   "execution_count": null,
   "metadata": {},
   "outputs": [],
   "source": []
  }
 ],
 "metadata": {
  "kernelspec": {
   "display_name": "Python 3",
   "language": "python",
   "name": "python3"
  },
  "language_info": {
   "codemirror_mode": {
    "name": "ipython",
    "version": 3
   },
   "file_extension": ".py",
   "mimetype": "text/x-python",
   "name": "python",
   "nbconvert_exporter": "python",
   "pygments_lexer": "ipython3",
   "version": "3.7.9"
  }
 },
 "nbformat": 4,
 "nbformat_minor": 2
}
